{
 "cells": [
  {
   "cell_type": "markdown",
   "id": "7614a948",
   "metadata": {},
   "source": [
    "# Act Report"
   ]
  },
  {
   "cell_type": "markdown",
   "id": "8cd8183b",
   "metadata": {},
   "source": [
    "## Table of Contents\n",
    "\n",
    "<ul>\n",
    "<li><a href=\"#intro\">1. Introduction</a></li>\n",
    "<li><a href=\"#v1\">2. Top 10 highest rated dog breeds on average</a></li>\n",
    "<li><a href=\"#v2\">3. Top 10 most favored dog breeds</a></li>\n",
    "<li><a href=\"#v3\">4. Top 10 Most common dog names</a></li>\n",
    "<li><a href=\"#v4\">5. Top 10 Most common dog breeds</a></li>\n",
    "</ul>"
   ]
  },
  {
   "cell_type": "markdown",
   "id": "5e1d2ab0",
   "metadata": {},
   "source": [
    "<a id='intro'></a>\n",
    "\n",
    "## 1. Introduction\n",
    "\n",
    "After gathering, assessing and cleaning the 3 datasets, we combined them together into one dataset and saved it. Then, we performed some visualizations on it. In this report, we will discuss some of the observations we have noticed."
   ]
  },
  {
   "cell_type": "markdown",
   "id": "9c243ae3",
   "metadata": {},
   "source": [
    "<a id='v1'></a>\n",
    "\n",
    "## 2. Top 10 highest rated dog breeds on average\n",
    "\n",
    "The highest rated dog breed is Clumber with a rating that is over 25. In the second place comes soft coated wheaten terrier and in the third place comes west highland white terrier.\n",
    "\n",
    "![](./images/v1.png)"
   ]
  },
  {
   "cell_type": "markdown",
   "id": "830000f1",
   "metadata": {},
   "source": [
    "<a id='v2'></a>\n",
    "\n",
    "## 3. Top 10 most favored dog breeds\n",
    "\n",
    "Saluki is most favored breed by Twitter users with over 20,000 likes, in the 2nd and 3rd place come the French Bulldog and afghan hound breeds with about 15,000 likes.\n",
    "\n",
    "![](./images/v2.png)\n",
    "<img src=\"./images/dog1.jpg\" alt=\"drawing\" style=\"width:500px;\"/>"
   ]
  },
  {
   "cell_type": "markdown",
   "id": "402282e5",
   "metadata": {},
   "source": [
    "<a id='v3'></a>\n",
    "\n",
    "## 4. Top 10 Most common dog names\n",
    "\n",
    "Cooper is the most frequent dog name in the tweets archive with over 50 dogs. The 2nd most common name is Charlie. And most other dog's names are unknown.\n",
    "\n",
    "![](./images/v3.png)"
   ]
  },
  {
   "cell_type": "markdown",
   "id": "cd16222b",
   "metadata": {},
   "source": [
    "<a id='v4'></a>\n",
    "\n",
    "## 5. Top 10 Most common dog breeds\n",
    "\n",
    "Golden retriever is  the most common name with over 100 dogs present in the dataset. Pembroke and labrador retriever come in 2nd and 3rd place.\n",
    "\n",
    "![](./images/v4.png)\n",
    "<img src=\"./images/dog2.jpg\" alt=\"drawing\" style=\"width:500px;\"/>"
   ]
  },
  {
   "cell_type": "markdown",
   "id": "438501c1",
   "metadata": {},
   "source": [
    "<a id='v5'></a>\n",
    "\n",
    "## 6. Relationship between retweets count and favorites count\n",
    "\n",
    "There's a high positive and strong correlation between retweets count and favorites count.\n",
    "\n",
    "![](./images/v5.png)"
   ]
  }
 ],
 "metadata": {
  "kernelspec": {
   "display_name": "Python [conda env:root] *",
   "language": "python",
   "name": "conda-root-py"
  },
  "language_info": {
   "codemirror_mode": {
    "name": "ipython",
    "version": 3
   },
   "file_extension": ".py",
   "mimetype": "text/x-python",
   "name": "python",
   "nbconvert_exporter": "python",
   "pygments_lexer": "ipython3",
   "version": "3.9.15"
  }
 },
 "nbformat": 4,
 "nbformat_minor": 5
}
